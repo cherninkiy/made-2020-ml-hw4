{
 "cells": [
  {
   "cell_type": "markdown",
   "metadata": {},
   "source": [
    "# Модель предсказания ключевых фраз\n",
    "\n",
    "!!! Осторожно, BigData"
   ]
  },
  {
   "cell_type": "code",
   "execution_count": null,
   "metadata": {},
   "outputs": [],
   "source": [
    "import numpy as np\n",
    "import pandas as pd\n",
    "pd.set_option('display.max_rows', 100)\n",
    "pd.set_option('display.max_columns', 100)\n",
    "\n",
    "import joblib\n",
    "\n",
    "import warnings\n",
    "warnings.filterwarnings('ignore')\n",
    "\n",
    "from sklearn.model_selection import train_test_split\n",
    "from sklearn.preprocessing import LabelEncoder\n",
    "from sklearn.metrics import f1_score\n",
    "\n",
    "RANDOM_STATE = 2"
   ]
  },
  {
   "cell_type": "markdown",
   "metadata": {},
   "source": [
    "## Исходные данные"
   ]
  },
  {
   "cell_type": "code",
   "execution_count": null,
   "metadata": {
    "scrolled": true
   },
   "outputs": [],
   "source": [
    "listing = pd.read_csv('train.csv')\n",
    "topics = pd.read_csv('topics.csv')\n",
    "comments = pd.read_csv('comments.csv')"
   ]
  },
  {
   "cell_type": "code",
   "execution_count": null,
   "metadata": {},
   "outputs": [],
   "source": [
    "train = listing.merge(topics[['listing_id']], left_on='id', right_on='listing_id', how='inner')\n",
    "train.drop(columns=['listing_id'], inplace=True)"
   ]
  },
  {
   "cell_type": "code",
   "execution_count": null,
   "metadata": {},
   "outputs": [],
   "source": [
    "target = topics.merge(train[['id']], left_on='listing_id', right_on='id', how='inner').astype(int)\n",
    "target.drop(columns=['id'], inplace=True)"
   ]
  },
  {
   "cell_type": "markdown",
   "metadata": {},
   "source": [
    "Вспомогательные функции"
   ]
  },
  {
   "cell_type": "code",
   "execution_count": null,
   "metadata": {},
   "outputs": [],
   "source": [
    "def get_from_train_by_index(i):\n",
    "    return train[train.index == i].to_dict(orient='records')[0]\n",
    "\n",
    "def get_from_train_by_id(idx):\n",
    "    return train[train.id == idx].to_dict(orient='records')[0]\n",
    "\n",
    "def get_reviews_by_index(i):\n",
    "    idx = train[train.index == i].id.values[0]\n",
    "    return comments.loc[comments.listing_id == idx, :]\n",
    "\n",
    "def get_reviews_by_id(idx):\n",
    "    return comments.loc[comments.listing_id == idx, :]\n"
   ]
  },
  {
   "cell_type": "markdown",
   "metadata": {},
   "source": [
    "## Классификатор объектов недвижимости по отзывам"
   ]
  },
  {
   "cell_type": "code",
   "execution_count": null,
   "metadata": {},
   "outputs": [],
   "source": [
    "class ThePropertyPhrasesClassifier(object):\n",
    "    def __init__(self):\n",
    "        self.mlb = joblib.load(\"mlb_dump.pkl\")\n",
    "        self.pca = joblib.load(\"pca_dump.pkl\")\n",
    "        self.ovrc = joblib.load(\"ovrc_dump.pkl\")\n",
    "        self.phrases = pd.read_csv('phrases.csv', index_col='id')\n",
    "        \n",
    "        self.num_cols = ['latitude',\n",
    "                         'longitude',\n",
    "                         'accommodates',\n",
    "                         'bathrooms',\n",
    "                         'bedrooms',\n",
    "                         'beds',\n",
    "                         'square_feet',\n",
    "                         'security_deposit',\n",
    "                         'cleaning_fee',\n",
    "                         'guests_included',\n",
    "                         'extra_people',\n",
    "                         'minimum_nights',\n",
    "                         'price']\n",
    "        \n",
    "        self.cat_cols = ['experiences_offered',\n",
    "                         'host_response_time',\n",
    "                         'host_is_superhost',\n",
    "                         'host_has_profile_pic',\n",
    "                         'host_identity_verified',\n",
    "                         'neighbourhood_cleansed',\n",
    "                         'is_location_exact',\n",
    "                         'property_type',\n",
    "                         'room_type',\n",
    "                         'bed_type',\n",
    "                         'cancellation_policy',\n",
    "                         'require_guest_phone_verification']\n",
    "        \n",
    "        self.tresholds = [0.3, 0.2, 0.1, 0.3, 0.2, 0.3, 0.2, 0.2, 0.2, 0.1, 0.2, 0.1, 0.2,\n",
    "                          0.2, 0.2, 0.2, 0.2, 0.2, 0.2, 0.2, 0.2, 0.3, 0.2, 0.2, 0.2, 0.2,\n",
    "                          0.2, 0.2, 0.2, 0.2, 0.2, 0.2]\n",
    "        \n",
    "    def get_feature_names(self):\n",
    "        return ['experiences_offered',\n",
    "                 'host_response_time',\n",
    "                 'host_is_superhost',\n",
    "                 'host_has_profile_pic',\n",
    "                 'host_identity_verified',\n",
    "                 'neighbourhood_cleansed',\n",
    "                 'latitude',\n",
    "                 'longitude',\n",
    "                 'is_location_exact',\n",
    "                 'property_type',\n",
    "                 'room_type',\n",
    "                 'accommodates',\n",
    "                 'bathrooms',\n",
    "                 'bedrooms',\n",
    "                 'beds',\n",
    "                 'bed_type',\n",
    "                 'amenities',\n",
    "                 'square_feet',\n",
    "                 'security_deposit',\n",
    "                 'cleaning_fee',\n",
    "                 'guests_included',\n",
    "                 'extra_people',\n",
    "                 'minimum_nights',\n",
    "                 'cancellation_policy',\n",
    "                 'require_guest_phone_verification',\n",
    "                 'price']\n",
    "        \n",
    "        \n",
    "    def preprocess(self, df):\n",
    "            df_amenities = df['amenities'] \\\n",
    "                .apply(lambda x: str(x).strip('{}')) \\\n",
    "                .apply(lambda x: str(x).replace('to shower, toilet', 'to shower and toilet')) \\\n",
    "                .apply(lambda x: str(x).split(','))\n",
    "            \n",
    "            df_amenities = pd.DataFrame(self.mlb.transform(df_amenities),\n",
    "                                        columns=self.mlb.classes_)\n",
    "            \n",
    "            df_pca = self.pca.transform(df_amenities)\n",
    "            pca_cols = [f'pca{i:02}' for i in range(df_pca.shape[1])]\n",
    "            i = 0\n",
    "            \n",
    "            df = df[self.num_cols + self.cat_cols].copy()\n",
    "            for col in pca_cols:\n",
    "                df[col] = df_pca[:,i]\n",
    "                i += 1\n",
    "\n",
    "            for col in self.cat_cols:\n",
    "                le = LabelEncoder()\n",
    "                le.fit(train[col].fillna(''))\n",
    "                df[col] = le.transform(df[col].fillna(''))\n",
    "\n",
    "            df.fillna(0, inplace=True)\n",
    "            df['price'] = np.log1p(df['price'])\n",
    "\n",
    "            return df\n",
    "\n",
    "        \n",
    "    def predict(self, df):\n",
    "        pred = self.ovrc.predict_proba(df) \n",
    "        for n in range(pred.shape[1]):\n",
    "            pred[:, n] = pred[:, n] > self.tresholds[n]\n",
    "        return pred\n",
    "\n",
    "\n",
    "clf = ThePropertyPhrasesClassifier()"
   ]
  },
  {
   "cell_type": "markdown",
   "metadata": {},
   "source": [
    "### Тест классификатора"
   ]
  },
  {
   "cell_type": "code",
   "execution_count": null,
   "metadata": {},
   "outputs": [],
   "source": [
    "X = clf.preprocess(train)\n",
    "y = target.drop(columns=['listing_id'])\n",
    "_, X_test, _, y_test = train_test_split(X, y, test_size=0.25, random_state=RANDOM_STATE)\n",
    "X_test.shape, y_test.shape"
   ]
  },
  {
   "cell_type": "code",
   "execution_count": null,
   "metadata": {},
   "outputs": [],
   "source": [
    "pred = clf.predict(X_test)\n",
    "f1_score(y_test, pred, average='samples')"
   ]
  },
  {
   "cell_type": "markdown",
   "metadata": {},
   "source": [
    "## Модель предсказания ключевых фраз по отзывам"
   ]
  },
  {
   "cell_type": "code",
   "execution_count": null,
   "metadata": {},
   "outputs": [],
   "source": [
    "class ThePropertyPhrasesGenerator(object):\n",
    "    def __init__(self):\n",
    "        self.topics_count = 32\n",
    "        self.clf = ThePropertyPhrasesClassifier()\n",
    "        self.phrases = pd.read_csv('phrases.csv', index_col='id')\n",
    "\n",
    "        \n",
    "    def get_feature_names(self):\n",
    "        return self.clf.get_feature_names()\n",
    "    \n",
    "    \n",
    "    def generate_key_phrases(self, data, n_phrases=20):\n",
    "        cols = self.get_feature_names()\n",
    "        ds = pd.Series([np.nan] * len(cols), index=cols)\n",
    "        \n",
    "        for col in cols:\n",
    "            if col in data.keys():\n",
    "                ds[col] = data[col]\n",
    "\n",
    "        df = self.clf.preprocess(ds.to_frame().T)\n",
    "        \n",
    "        pred = self.clf.predict(df)\n",
    "        \n",
    "        topics = pd.Series([np.nan] * self.topics_count).to_frame()\n",
    "        for i in range(self.topics_count):\n",
    "            if pred[0,i] == 1:\n",
    "                topics.loc[i,0] = i\n",
    "        #return pred[0].T\n",
    "        topics.rename(columns={0: 'topic'}, inplace=True)\n",
    "        topics.dropna(inplace=True)\n",
    "        topics['topic'] = topics['topic'].astype(int)\n",
    "        \n",
    "        phrases = topics.merge(self.phrases, how='inner', on='topic')\n",
    "        if phrases.shape[0] == 0:\n",
    "            phrases = self.phrases.copy()\n",
    "        else:\n",
    "            phrases.drop(index=phrases[phrases.topic==0].index, inplace=True)\n",
    "\n",
    "        return phrases \\\n",
    "            .sort_values(by=['freq','rented_mean','listing_count'],\n",
    "                         ascending=[False,False,True]) \\\n",
    "            .head(n_phrases)[['topic','phrases','freq','listing_count','rented_mean']]\n",
    "\n",
    "    \n",
    "phrases_generator = ThePropertyPhrasesGenerator()\n"
   ]
  },
  {
   "cell_type": "markdown",
   "metadata": {},
   "source": [
    "### Тест модели"
   ]
  },
  {
   "cell_type": "code",
   "execution_count": null,
   "metadata": {},
   "outputs": [],
   "source": [
    "rec_index = 6000"
   ]
  },
  {
   "cell_type": "code",
   "execution_count": null,
   "metadata": {
    "scrolled": false
   },
   "outputs": [],
   "source": [
    "d = get_from_train_by_index(rec_index)\n",
    "phrases = phrases_generator.generate_key_phrases(d)\n",
    "phrases = phrases.reset_index().drop(columns=['index'], axis=1)\n",
    "\n",
    "reviews = get_reviews_by_index(rec_index)\n",
    "reviews = reviews.reset_index().drop(columns=['index'], axis=1)\n",
    "\n",
    "columns = list(phrases.columns) + list(reviews.columns)\n",
    "\n",
    "pd.concat([phrases, reviews], axis=1, ignore_index=True) \\\n",
    "    .rename(columns=dict(zip(range(len(columns)), columns))) \\\n",
    "    .fillna('')"
   ]
  },
  {
   "cell_type": "code",
   "execution_count": null,
   "metadata": {},
   "outputs": [],
   "source": []
  }
 ],
 "metadata": {
  "kernelspec": {
   "display_name": "Python 3",
   "language": "python",
   "name": "python3"
  },
  "language_info": {
   "codemirror_mode": {
    "name": "ipython",
    "version": 3
   },
   "file_extension": ".py",
   "mimetype": "text/x-python",
   "name": "python",
   "nbconvert_exporter": "python",
   "pygments_lexer": "ipython3",
   "version": "3.8.3"
  }
 },
 "nbformat": 4,
 "nbformat_minor": 4
}
