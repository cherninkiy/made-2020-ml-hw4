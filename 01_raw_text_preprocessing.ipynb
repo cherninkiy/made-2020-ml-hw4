{
 "cells": [
  {
   "cell_type": "markdown",
   "metadata": {},
   "source": [
    "# Предобработка исходных данных с отзывами\n",
    "\n",
    "!!! Осторожно, BigData"
   ]
  },
  {
   "cell_type": "code",
   "execution_count": 1,
   "metadata": {},
   "outputs": [],
   "source": [
    "import pandas as pd\n",
    "import numpy as np\n",
    "import string\n",
    "\n",
    "from sklearn.model_selection import train_test_split\n",
    "\n",
    "RANDOM_STATE = 2"
   ]
  },
  {
   "cell_type": "markdown",
   "metadata": {},
   "source": [
    "## Описание исходных данных"
   ]
  },
  {
   "cell_type": "code",
   "execution_count": 2,
   "metadata": {},
   "outputs": [
    {
     "data": {
      "text/html": [
       "<div>\n",
       "<style scoped>\n",
       "    .dataframe tbody tr th:only-of-type {\n",
       "        vertical-align: middle;\n",
       "    }\n",
       "\n",
       "    .dataframe tbody tr th {\n",
       "        vertical-align: top;\n",
       "    }\n",
       "\n",
       "    .dataframe thead th {\n",
       "        text-align: right;\n",
       "    }\n",
       "</style>\n",
       "<table border=\"1\" class=\"dataframe\">\n",
       "  <thead>\n",
       "    <tr style=\"text-align: right;\">\n",
       "      <th></th>\n",
       "      <th>listing_id</th>\n",
       "      <th>id</th>\n",
       "      <th>date</th>\n",
       "      <th>reviewer_id</th>\n",
       "      <th>reviewer_name</th>\n",
       "      <th>comments</th>\n",
       "    </tr>\n",
       "  </thead>\n",
       "  <tbody>\n",
       "    <tr>\n",
       "      <th>0</th>\n",
       "      <td>9554</td>\n",
       "      <td>1184025</td>\n",
       "      <td>2012-04-26</td>\n",
       "      <td>1809049</td>\n",
       "      <td>Hana</td>\n",
       "      <td>I  stayed  in London for a month to study, exp...</td>\n",
       "    </tr>\n",
       "    <tr>\n",
       "      <th>1</th>\n",
       "      <td>9554</td>\n",
       "      <td>1206322</td>\n",
       "      <td>2012-04-30</td>\n",
       "      <td>2237488</td>\n",
       "      <td>Rishi</td>\n",
       "      <td>My bnb request was very last minute and i was ...</td>\n",
       "    </tr>\n",
       "    <tr>\n",
       "      <th>2</th>\n",
       "      <td>9554</td>\n",
       "      <td>1258541</td>\n",
       "      <td>2012-05-10</td>\n",
       "      <td>2150467</td>\n",
       "      <td>Panee</td>\n",
       "      <td>First time as airbnb!First time to London! I c...</td>\n",
       "    </tr>\n",
       "    <tr>\n",
       "      <th>3</th>\n",
       "      <td>9554</td>\n",
       "      <td>1405284</td>\n",
       "      <td>2012-06-03</td>\n",
       "      <td>1864672</td>\n",
       "      <td>Simone Cristina</td>\n",
       "      <td>A wonderful experience! The house is very well...</td>\n",
       "    </tr>\n",
       "    <tr>\n",
       "      <th>4</th>\n",
       "      <td>9554</td>\n",
       "      <td>1475969</td>\n",
       "      <td>2012-06-13</td>\n",
       "      <td>2438453</td>\n",
       "      <td>Sondra</td>\n",
       "      <td>We are so grateful that we trusted our intuiti...</td>\n",
       "    </tr>\n",
       "    <tr>\n",
       "      <th>...</th>\n",
       "      <td>...</td>\n",
       "      <td>...</td>\n",
       "      <td>...</td>\n",
       "      <td>...</td>\n",
       "      <td>...</td>\n",
       "      <td>...</td>\n",
       "    </tr>\n",
       "    <tr>\n",
       "      <th>1137319</th>\n",
       "      <td>29735949</td>\n",
       "      <td>344807582</td>\n",
       "      <td>2018-11-04</td>\n",
       "      <td>27552372</td>\n",
       "      <td>Declan</td>\n",
       "      <td>Clean, spacious, stylish apartment close to ev...</td>\n",
       "    </tr>\n",
       "    <tr>\n",
       "      <th>1137320</th>\n",
       "      <td>29736900</td>\n",
       "      <td>344387254</td>\n",
       "      <td>2018-11-03</td>\n",
       "      <td>109537206</td>\n",
       "      <td>Shazia</td>\n",
       "      <td>spotless clean flat with amazing view. the hos...</td>\n",
       "    </tr>\n",
       "    <tr>\n",
       "      <th>1137321</th>\n",
       "      <td>29756033</td>\n",
       "      <td>344498174</td>\n",
       "      <td>2018-11-03</td>\n",
       "      <td>26000990</td>\n",
       "      <td>Andrea</td>\n",
       "      <td>The host canceled this reservation 55 days bef...</td>\n",
       "    </tr>\n",
       "    <tr>\n",
       "      <th>1137322</th>\n",
       "      <td>29775194</td>\n",
       "      <td>345574439</td>\n",
       "      <td>2018-11-05</td>\n",
       "      <td>34546792</td>\n",
       "      <td>Robert</td>\n",
       "      <td>The host canceled this reservation 45 days bef...</td>\n",
       "    </tr>\n",
       "    <tr>\n",
       "      <th>1137323</th>\n",
       "      <td>29793575</td>\n",
       "      <td>345445323</td>\n",
       "      <td>2018-11-05</td>\n",
       "      <td>111603523</td>\n",
       "      <td>Alex</td>\n",
       "      <td>The host canceled this reservation 53 days bef...</td>\n",
       "    </tr>\n",
       "  </tbody>\n",
       "</table>\n",
       "<p>1137324 rows × 6 columns</p>\n",
       "</div>"
      ],
      "text/plain": [
       "         listing_id         id        date  reviewer_id    reviewer_name  \\\n",
       "0              9554    1184025  2012-04-26      1809049             Hana   \n",
       "1              9554    1206322  2012-04-30      2237488            Rishi   \n",
       "2              9554    1258541  2012-05-10      2150467            Panee   \n",
       "3              9554    1405284  2012-06-03      1864672  Simone Cristina   \n",
       "4              9554    1475969  2012-06-13      2438453           Sondra   \n",
       "...             ...        ...         ...          ...              ...   \n",
       "1137319    29735949  344807582  2018-11-04     27552372           Declan   \n",
       "1137320    29736900  344387254  2018-11-03    109537206           Shazia   \n",
       "1137321    29756033  344498174  2018-11-03     26000990           Andrea   \n",
       "1137322    29775194  345574439  2018-11-05     34546792           Robert   \n",
       "1137323    29793575  345445323  2018-11-05    111603523             Alex   \n",
       "\n",
       "                                                  comments  \n",
       "0        I  stayed  in London for a month to study, exp...  \n",
       "1        My bnb request was very last minute and i was ...  \n",
       "2        First time as airbnb!First time to London! I c...  \n",
       "3        A wonderful experience! The house is very well...  \n",
       "4        We are so grateful that we trusted our intuiti...  \n",
       "...                                                    ...  \n",
       "1137319  Clean, spacious, stylish apartment close to ev...  \n",
       "1137320  spotless clean flat with amazing view. the hos...  \n",
       "1137321  The host canceled this reservation 55 days bef...  \n",
       "1137322  The host canceled this reservation 45 days bef...  \n",
       "1137323  The host canceled this reservation 53 days bef...  \n",
       "\n",
       "[1137324 rows x 6 columns]"
      ]
     },
     "execution_count": 2,
     "metadata": {},
     "output_type": "execute_result"
    }
   ],
   "source": [
    "reviews = pd.read_csv('reviews.csv')\n",
    "reviews"
   ]
  },
  {
   "cell_type": "markdown",
   "metadata": {},
   "source": [
    "### Схема данных\n",
    "\n",
    "Поля 'id', 'date', 'reviewer_id', 'reviewer_name' содержат метаданные отзыва, \\\n",
    "мы не будем их использовать.\n",
    "\n",
    "Поля 'listing_id' и 'comments' содержат идентификатор аренды и текст отзыва, \\\n",
    "будем использовать их для построения модели."
   ]
  },
  {
   "cell_type": "markdown",
   "metadata": {},
   "source": [
    "### Статистика пропусков и уникальных отзывов"
   ]
  },
  {
   "cell_type": "code",
   "execution_count": 3,
   "metadata": {},
   "outputs": [
    {
     "data": {
      "text/html": [
       "<div>\n",
       "<style scoped>\n",
       "    .dataframe tbody tr th:only-of-type {\n",
       "        vertical-align: middle;\n",
       "    }\n",
       "\n",
       "    .dataframe tbody tr th {\n",
       "        vertical-align: top;\n",
       "    }\n",
       "\n",
       "    .dataframe thead th {\n",
       "        text-align: right;\n",
       "    }\n",
       "</style>\n",
       "<table border=\"1\" class=\"dataframe\">\n",
       "  <thead>\n",
       "    <tr style=\"text-align: right;\">\n",
       "      <th></th>\n",
       "      <th>count</th>\n",
       "      <th>unique</th>\n",
       "      <th>top</th>\n",
       "      <th>freq</th>\n",
       "      <th>mean</th>\n",
       "      <th>std</th>\n",
       "      <th>min</th>\n",
       "      <th>25%</th>\n",
       "      <th>50%</th>\n",
       "      <th>75%</th>\n",
       "      <th>max</th>\n",
       "    </tr>\n",
       "  </thead>\n",
       "  <tbody>\n",
       "    <tr>\n",
       "      <th>listing_id</th>\n",
       "      <td>1.13732e+06</td>\n",
       "      <td>NaN</td>\n",
       "      <td>NaN</td>\n",
       "      <td>NaN</td>\n",
       "      <td>1.17062e+07</td>\n",
       "      <td>8.04298e+06</td>\n",
       "      <td>9554</td>\n",
       "      <td>4.2822e+06</td>\n",
       "      <td>1.17502e+07</td>\n",
       "      <td>1.83234e+07</td>\n",
       "      <td>2.97936e+07</td>\n",
       "    </tr>\n",
       "    <tr>\n",
       "      <th>comments</th>\n",
       "      <td>1135996</td>\n",
       "      <td>1095139</td>\n",
       "      <td>The host canceled this reservation the day bef...</td>\n",
       "      <td>1519</td>\n",
       "      <td>NaN</td>\n",
       "      <td>NaN</td>\n",
       "      <td>NaN</td>\n",
       "      <td>NaN</td>\n",
       "      <td>NaN</td>\n",
       "      <td>NaN</td>\n",
       "      <td>NaN</td>\n",
       "    </tr>\n",
       "  </tbody>\n",
       "</table>\n",
       "</div>"
      ],
      "text/plain": [
       "                  count   unique  \\\n",
       "listing_id  1.13732e+06      NaN   \n",
       "comments        1135996  1095139   \n",
       "\n",
       "                                                          top  freq  \\\n",
       "listing_id                                                NaN   NaN   \n",
       "comments    The host canceled this reservation the day bef...  1519   \n",
       "\n",
       "                   mean          std   min         25%          50%  \\\n",
       "listing_id  1.17062e+07  8.04298e+06  9554  4.2822e+06  1.17502e+07   \n",
       "comments            NaN          NaN   NaN         NaN          NaN   \n",
       "\n",
       "                    75%          max  \n",
       "listing_id  1.83234e+07  2.97936e+07  \n",
       "comments            NaN          NaN  "
      ]
     },
     "execution_count": 3,
     "metadata": {},
     "output_type": "execute_result"
    }
   ],
   "source": [
    "reviews[['listing_id','comments']] \\\n",
    "    .describe(include='all') \\\n",
    "    .T"
   ]
  },
  {
   "cell_type": "markdown",
   "metadata": {},
   "source": [
    "### Статистика отзывов по идентификатору аренды"
   ]
  },
  {
   "cell_type": "code",
   "execution_count": 4,
   "metadata": {},
   "outputs": [
    {
     "data": {
      "text/html": [
       "<div>\n",
       "<style scoped>\n",
       "    .dataframe tbody tr th:only-of-type {\n",
       "        vertical-align: middle;\n",
       "    }\n",
       "\n",
       "    .dataframe tbody tr th {\n",
       "        vertical-align: top;\n",
       "    }\n",
       "\n",
       "    .dataframe thead th {\n",
       "        text-align: right;\n",
       "    }\n",
       "</style>\n",
       "<table border=\"1\" class=\"dataframe\">\n",
       "  <thead>\n",
       "    <tr style=\"text-align: right;\">\n",
       "      <th></th>\n",
       "      <th>count</th>\n",
       "      <th>mean</th>\n",
       "      <th>std</th>\n",
       "      <th>min</th>\n",
       "      <th>25%</th>\n",
       "      <th>50%</th>\n",
       "      <th>75%</th>\n",
       "      <th>max</th>\n",
       "    </tr>\n",
       "  </thead>\n",
       "  <tbody>\n",
       "    <tr>\n",
       "      <th>comments</th>\n",
       "      <td>56278.0</td>\n",
       "      <td>20.185437</td>\n",
       "      <td>35.357456</td>\n",
       "      <td>1.0</td>\n",
       "      <td>3.0</td>\n",
       "      <td>8.0</td>\n",
       "      <td>22.0</td>\n",
       "      <td>566.0</td>\n",
       "    </tr>\n",
       "  </tbody>\n",
       "</table>\n",
       "</div>"
      ],
      "text/plain": [
       "            count       mean        std  min  25%  50%   75%    max\n",
       "comments  56278.0  20.185437  35.357456  1.0  3.0  8.0  22.0  566.0"
      ]
     },
     "execution_count": 4,
     "metadata": {},
     "output_type": "execute_result"
    }
   ],
   "source": [
    "reviews[['listing_id','comments']].dropna() \\\n",
    "    .groupby(by=['listing_id']) \\\n",
    "    .count() \\\n",
    "    .describe() \\\n",
    "    .T"
   ]
  },
  {
   "cell_type": "markdown",
   "metadata": {},
   "source": [
    "### Статистика отзывов по длине текста"
   ]
  },
  {
   "cell_type": "code",
   "execution_count": 5,
   "metadata": {},
   "outputs": [
    {
     "data": {
      "text/html": [
       "<div>\n",
       "<style scoped>\n",
       "    .dataframe tbody tr th:only-of-type {\n",
       "        vertical-align: middle;\n",
       "    }\n",
       "\n",
       "    .dataframe tbody tr th {\n",
       "        vertical-align: top;\n",
       "    }\n",
       "\n",
       "    .dataframe thead th {\n",
       "        text-align: right;\n",
       "    }\n",
       "</style>\n",
       "<table border=\"1\" class=\"dataframe\">\n",
       "  <thead>\n",
       "    <tr style=\"text-align: right;\">\n",
       "      <th></th>\n",
       "      <th>count</th>\n",
       "      <th>mean</th>\n",
       "      <th>std</th>\n",
       "      <th>min</th>\n",
       "      <th>25%</th>\n",
       "      <th>50%</th>\n",
       "      <th>75%</th>\n",
       "      <th>max</th>\n",
       "    </tr>\n",
       "  </thead>\n",
       "  <tbody>\n",
       "    <tr>\n",
       "      <th>comments</th>\n",
       "      <td>1135996.0</td>\n",
       "      <td>278.719857</td>\n",
       "      <td>262.380617</td>\n",
       "      <td>1.0</td>\n",
       "      <td>105.0</td>\n",
       "      <td>209.0</td>\n",
       "      <td>365.0</td>\n",
       "      <td>6743.0</td>\n",
       "    </tr>\n",
       "  </tbody>\n",
       "</table>\n",
       "</div>"
      ],
      "text/plain": [
       "              count        mean         std  min    25%    50%    75%     max\n",
       "comments  1135996.0  278.719857  262.380617  1.0  105.0  209.0  365.0  6743.0"
      ]
     },
     "execution_count": 5,
     "metadata": {},
     "output_type": "execute_result"
    }
   ],
   "source": [
    "reviews.comments.dropna().apply(lambda x: len(x)).to_frame().describe().T"
   ]
  },
  {
   "cell_type": "markdown",
   "metadata": {},
   "source": [
    "### Статистика отзывов по количеству слов\n",
    "Количество слов аппроксимируется количеством пробелов в тексте"
   ]
  },
  {
   "cell_type": "code",
   "execution_count": 6,
   "metadata": {},
   "outputs": [
    {
     "data": {
      "text/html": [
       "<div>\n",
       "<style scoped>\n",
       "    .dataframe tbody tr th:only-of-type {\n",
       "        vertical-align: middle;\n",
       "    }\n",
       "\n",
       "    .dataframe tbody tr th {\n",
       "        vertical-align: top;\n",
       "    }\n",
       "\n",
       "    .dataframe thead th {\n",
       "        text-align: right;\n",
       "    }\n",
       "</style>\n",
       "<table border=\"1\" class=\"dataframe\">\n",
       "  <thead>\n",
       "    <tr style=\"text-align: right;\">\n",
       "      <th></th>\n",
       "      <th>count</th>\n",
       "      <th>mean</th>\n",
       "      <th>std</th>\n",
       "      <th>min</th>\n",
       "      <th>25%</th>\n",
       "      <th>50%</th>\n",
       "      <th>75%</th>\n",
       "      <th>max</th>\n",
       "    </tr>\n",
       "  </thead>\n",
       "  <tbody>\n",
       "    <tr>\n",
       "      <th>comments</th>\n",
       "      <td>1135996.0</td>\n",
       "      <td>48.506511</td>\n",
       "      <td>47.653814</td>\n",
       "      <td>0.0</td>\n",
       "      <td>17.0</td>\n",
       "      <td>36.0</td>\n",
       "      <td>64.0</td>\n",
       "      <td>1008.0</td>\n",
       "    </tr>\n",
       "  </tbody>\n",
       "</table>\n",
       "</div>"
      ],
      "text/plain": [
       "              count       mean        std  min   25%   50%   75%     max\n",
       "comments  1135996.0  48.506511  47.653814  0.0  17.0  36.0  64.0  1008.0"
      ]
     },
     "execution_count": 6,
     "metadata": {},
     "output_type": "execute_result"
    }
   ],
   "source": [
    "reviews.comments.dropna().apply(lambda x: len(x) - len(x.replace(' ', ''))).to_frame().describe().T"
   ]
  },
  {
   "cell_type": "markdown",
   "metadata": {},
   "source": [
    "### Алфавит и язык отзывов"
   ]
  },
  {
   "cell_type": "code",
   "execution_count": 7,
   "metadata": {},
   "outputs": [
    {
     "data": {
      "text/plain": [
       "87743     \\t\\thello \\r\\ntraveled July/12 – July/20 we wh...\n",
       "658497    \\t\\n\\nKamey is a great host and friendly guy, ...\n",
       "65515     \\tMe, my wife and granddaughter lived in this ...\n",
       "502662                                                   \\n\n",
       "544602                                                   \\n\n",
       "                                ...                        \n",
       "627670    ﾛﾝﾄﾞﾝｼﾃｨ空港を利用するため2泊で利用しました｡\\nｽﾀｯﾌの方は優しく､たどたどしい...\n",
       "378810    ﾛﾝﾄﾞﾝｾﾝﾄﾗﾙからのｱｸｾｽもよく､観光にも非常に便利だった｡\\r\\nﾎｽﾄのﾏｷﾞｰ...\n",
       "135693    ﾛﾝﾄﾞﾝﾌｨｰﾙｽﾞに近く､その周りを囲むように美味しいﾍﾞｰｶﾘｰやﾛｰｽﾀﾘｰｶﾌｪな...\n",
       "487165    ﾛﾝﾄﾞﾝﾌﾞﾘｯｼﾞからの連絡もよく､ｹﾋﾞﾅさんもとてもいい人です｡女2人で寝るには大き...\n",
       "961470    ﾜﾝちゃんがなついてくれて楽しかったです｡深夜のﾁｪｯｸｲﾝにも対応してくれました｡駅から少...\n",
       "Name: comments, Length: 1135996, dtype: object"
      ]
     },
     "execution_count": 7,
     "metadata": {},
     "output_type": "execute_result"
    }
   ],
   "source": [
    "reviews.comments.dropna().sort_values()"
   ]
  },
  {
   "cell_type": "markdown",
   "metadata": {},
   "source": [
    "### Обобщенное описание данных\n",
    "\n",
    "Датасет содержит 1137324 записи, \\\n",
    "из них с непустыми отзывами 1135996, \\\n",
    "уникальных отзывов 1095139.\n",
    "\n",
    "Объектов аренды: 56278. \\\n",
    "Отзывов по каждому объекту от 1 до 566, в среднем 20 отзывов. \\\n",
    "Более 25% объектов имеют 1 отзыв. \\\n",
    "Более 50% объектов имеют 3 и меньше отзывов. \\\n",
    "Более 75% объектов имеют 8 и меньше отзывов. \n",
    "\n",
    "Отзывы на разных языках, оставим только латиницу и цифры. \n",
    "\n",
    "Встречаются отзывы, содержащие один символ, содержащие одно слово и т.п. \\\n",
    "Предполагаем, что отзывы, содержащие менее двух слов являются не информативными.\n",
    "\n",
    "Также часто встречаются отзывы об отмене брони: 'The host canceled this reservation ...' \\\n",
    "Оне тоже не предоставляют информацию для решения задачи."
   ]
  },
  {
   "cell_type": "markdown",
   "metadata": {},
   "source": [
    "## Предобработка данных"
   ]
  },
  {
   "cell_type": "code",
   "execution_count": 8,
   "metadata": {},
   "outputs": [
    {
     "data": {
      "text/plain": [
       "(1137324, 6)"
      ]
     },
     "execution_count": 8,
     "metadata": {},
     "output_type": "execute_result"
    }
   ],
   "source": [
    "reviews.shape"
   ]
  },
  {
   "cell_type": "markdown",
   "metadata": {},
   "source": [
    "### Удаление пропусков"
   ]
  },
  {
   "cell_type": "code",
   "execution_count": 9,
   "metadata": {
    "scrolled": true
   },
   "outputs": [
    {
     "data": {
      "text/plain": [
       "(1135996, 2)"
      ]
     },
     "execution_count": 9,
     "metadata": {},
     "output_type": "execute_result"
    }
   ],
   "source": [
    "comments = reviews.loc[reviews.comments.notna(), ['listing_id','comments']].copy()\n",
    "comments.shape"
   ]
  },
  {
   "cell_type": "markdown",
   "metadata": {},
   "source": [
    "### Очистка текста"
   ]
  },
  {
   "cell_type": "code",
   "execution_count": 10,
   "metadata": {},
   "outputs": [
    {
     "data": {
      "text/html": [
       "<div>\n",
       "<style scoped>\n",
       "    .dataframe tbody tr th:only-of-type {\n",
       "        vertical-align: middle;\n",
       "    }\n",
       "\n",
       "    .dataframe tbody tr th {\n",
       "        vertical-align: top;\n",
       "    }\n",
       "\n",
       "    .dataframe thead th {\n",
       "        text-align: right;\n",
       "    }\n",
       "</style>\n",
       "<table border=\"1\" class=\"dataframe\">\n",
       "  <thead>\n",
       "    <tr style=\"text-align: right;\">\n",
       "      <th></th>\n",
       "      <th>listing_id</th>\n",
       "      <th>comments</th>\n",
       "    </tr>\n",
       "  </thead>\n",
       "  <tbody>\n",
       "    <tr>\n",
       "      <th>1056790</th>\n",
       "      <td>23820750</td>\n",
       "      <td>#1 - the most comfortable bed #2 - 50-minute e...</td>\n",
       "    </tr>\n",
       "    <tr>\n",
       "      <th>1096433</th>\n",
       "      <td>25861190</td>\n",
       "      <td>#1 pick for staying in london amazing location...</td>\n",
       "    </tr>\n",
       "    <tr>\n",
       "      <th>476085</th>\n",
       "      <td>8844647</td>\n",
       "      <td>#1 room to rent in london</td>\n",
       "    </tr>\n",
       "    <tr>\n",
       "      <th>652718</th>\n",
       "      <td>13903095</td>\n",
       "      <td>#10 osten mews is a wonderful and very central...</td>\n",
       "    </tr>\n",
       "    <tr>\n",
       "      <th>268896</th>\n",
       "      <td>3957718</td>\n",
       "      <td>#en# reinaldo is a very nice host we spent som...</td>\n",
       "    </tr>\n",
       "    <tr>\n",
       "      <th>...</th>\n",
       "      <td>...</td>\n",
       "      <td>...</td>\n",
       "    </tr>\n",
       "    <tr>\n",
       "      <th>920886</th>\n",
       "      <td>19895633</td>\n",
       "      <td>zwei sch ne terrassen sehr angenehme kommunika...</td>\n",
       "    </tr>\n",
       "    <tr>\n",
       "      <th>133063</th>\n",
       "      <td>1131354</td>\n",
       "      <td>zwei sehr nette zimmer optimal f r eine famili...</td>\n",
       "    </tr>\n",
       "    <tr>\n",
       "      <th>335967</th>\n",
       "      <td>5293527</td>\n",
       "      <td>zwei super liebe und hilfsbereite menschen mei...</td>\n",
       "    </tr>\n",
       "    <tr>\n",
       "      <th>70649</th>\n",
       "      <td>539042</td>\n",
       "      <td>zwei wochen war ich in london und bin sehr dan...</td>\n",
       "    </tr>\n",
       "    <tr>\n",
       "      <th>848842</th>\n",
       "      <td>18227770</td>\n",
       "      <td>zweites mal dass ich bei ihm war zweites mal h...</td>\n",
       "    </tr>\n",
       "  </tbody>\n",
       "</table>\n",
       "<p>1125830 rows × 2 columns</p>\n",
       "</div>"
      ],
      "text/plain": [
       "         listing_id                                           comments\n",
       "1056790    23820750  #1 - the most comfortable bed #2 - 50-minute e...\n",
       "1096433    25861190  #1 pick for staying in london amazing location...\n",
       "476085      8844647                          #1 room to rent in london\n",
       "652718     13903095  #10 osten mews is a wonderful and very central...\n",
       "268896      3957718  #en# reinaldo is a very nice host we spent som...\n",
       "...             ...                                                ...\n",
       "920886     19895633  zwei sch ne terrassen sehr angenehme kommunika...\n",
       "133063      1131354  zwei sehr nette zimmer optimal f r eine famili...\n",
       "335967      5293527  zwei super liebe und hilfsbereite menschen mei...\n",
       "70649        539042  zwei wochen war ich in london und bin sehr dan...\n",
       "848842     18227770  zweites mal dass ich bei ihm war zweites mal h...\n",
       "\n",
       "[1125830 rows x 2 columns]"
      ]
     },
     "execution_count": 10,
     "metadata": {},
     "output_type": "execute_result"
    }
   ],
   "source": [
    "punct = str([c for c in string.punctuation if not c in '@#$%&*+-_/'])\n",
    "trans = str.maketrans(punct, ' ' * len(punct))\n",
    "\n",
    "comments['comments'] = comments['comments'] \\\n",
    "    .str.lower() \\\n",
    "    .str.replace(r'(\\n|\\r|\\t)', ' ', regex=True) \\\n",
    "    .str.replace(r'[^a-z0-9@#$%&*+-_/]+', ' ', regex=True) \\\n",
    "    .str.translate(trans) \\\n",
    "    .str.replace('\\s+', ' ', regex=True) \\\n",
    "    .str.strip()\n",
    "    \n",
    "empty_word_mask = comments.comments.map(len) == 0\n",
    "comments.drop(index=comments[empty_word_mask].index, axis=0, inplace=True)\n",
    "\n",
    "comments.sort_values(by='comments')"
   ]
  },
  {
   "cell_type": "markdown",
   "metadata": {},
   "source": [
    "### Удаление отзывов, состоящих из малого количества слов (до 10)"
   ]
  },
  {
   "cell_type": "code",
   "execution_count": 11,
   "metadata": {},
   "outputs": [
    {
     "data": {
      "text/plain": [
       "(989607, 2)"
      ]
     },
     "execution_count": 11,
     "metadata": {},
     "output_type": "execute_result"
    }
   ],
   "source": [
    "one_word_mask = comments.comments.map(lambda x: len(x) - len(x.replace(' ', ''))) < 10\n",
    "comments.drop(index=comments[one_word_mask].index, axis=0, inplace=True)\n",
    "comments.shape"
   ]
  },
  {
   "cell_type": "markdown",
   "metadata": {},
   "source": [
    "### Удаление отзывов, содержащих малое количество символов (до 30)"
   ]
  },
  {
   "cell_type": "code",
   "execution_count": 12,
   "metadata": {},
   "outputs": [
    {
     "data": {
      "text/plain": [
       "(989594, 2)"
      ]
     },
     "execution_count": 12,
     "metadata": {},
     "output_type": "execute_result"
    }
   ],
   "source": [
    "few_symbols_mask = comments.comments.apply(lambda x: len(x)) < 30\n",
    "comments.drop(index=comments[few_symbols_mask].index, axis=0, inplace=True)\n",
    "comments.shape"
   ]
  },
  {
   "cell_type": "markdown",
   "metadata": {},
   "source": [
    "### Удаление отзывов с информацие об отмене аренды"
   ]
  },
  {
   "cell_type": "code",
   "execution_count": 13,
   "metadata": {},
   "outputs": [
    {
     "data": {
      "text/plain": [
       "(967567, 2)"
      ]
     },
     "execution_count": 13,
     "metadata": {},
     "output_type": "execute_result"
    }
   ],
   "source": [
    "host_cancelled_mask = comments.comments.apply(lambda x: x.startswith('the host canceled this reservation'))\n",
    "comments.drop(index=comments[host_cancelled_mask].index, axis=0, inplace=True)\n",
    "\n",
    "host_cancelled_mask = comments.comments.apply(lambda x: x.startswith('the reservation was canceled'))\n",
    "comments.drop(index=comments[host_cancelled_mask].index, axis=0, inplace=True)\n",
    "\n",
    "comments.shape"
   ]
  },
  {
   "cell_type": "code",
   "execution_count": 14,
   "metadata": {},
   "outputs": [
    {
     "data": {
      "text/html": [
       "<div>\n",
       "<style scoped>\n",
       "    .dataframe tbody tr th:only-of-type {\n",
       "        vertical-align: middle;\n",
       "    }\n",
       "\n",
       "    .dataframe tbody tr th {\n",
       "        vertical-align: top;\n",
       "    }\n",
       "\n",
       "    .dataframe thead th {\n",
       "        text-align: right;\n",
       "    }\n",
       "</style>\n",
       "<table border=\"1\" class=\"dataframe\">\n",
       "  <thead>\n",
       "    <tr style=\"text-align: right;\">\n",
       "      <th></th>\n",
       "      <th>count</th>\n",
       "      <th>unique</th>\n",
       "      <th>top</th>\n",
       "      <th>freq</th>\n",
       "      <th>mean</th>\n",
       "      <th>std</th>\n",
       "      <th>min</th>\n",
       "      <th>25%</th>\n",
       "      <th>50%</th>\n",
       "      <th>75%</th>\n",
       "      <th>max</th>\n",
       "    </tr>\n",
       "  </thead>\n",
       "  <tbody>\n",
       "    <tr>\n",
       "      <th>listing_id</th>\n",
       "      <td>967567</td>\n",
       "      <td>NaN</td>\n",
       "      <td>NaN</td>\n",
       "      <td>NaN</td>\n",
       "      <td>1.12976e+07</td>\n",
       "      <td>8.00188e+06</td>\n",
       "      <td>9554</td>\n",
       "      <td>3.88846e+06</td>\n",
       "      <td>1.11139e+07</td>\n",
       "      <td>1.7899e+07</td>\n",
       "      <td>2.97369e+07</td>\n",
       "    </tr>\n",
       "    <tr>\n",
       "      <th>comments</th>\n",
       "      <td>967567</td>\n",
       "      <td>966936</td>\n",
       "      <td>a very nice comfortable stay for my group frie...</td>\n",
       "      <td>6</td>\n",
       "      <td>NaN</td>\n",
       "      <td>NaN</td>\n",
       "      <td>NaN</td>\n",
       "      <td>NaN</td>\n",
       "      <td>NaN</td>\n",
       "      <td>NaN</td>\n",
       "      <td>NaN</td>\n",
       "    </tr>\n",
       "  </tbody>\n",
       "</table>\n",
       "</div>"
      ],
      "text/plain": [
       "             count  unique                                                top  \\\n",
       "listing_id  967567     NaN                                                NaN   \n",
       "comments    967567  966936  a very nice comfortable stay for my group frie...   \n",
       "\n",
       "           freq         mean          std   min          25%          50%  \\\n",
       "listing_id  NaN  1.12976e+07  8.00188e+06  9554  3.88846e+06  1.11139e+07   \n",
       "comments      6          NaN          NaN   NaN          NaN          NaN   \n",
       "\n",
       "                   75%          max  \n",
       "listing_id  1.7899e+07  2.97369e+07  \n",
       "comments           NaN          NaN  "
      ]
     },
     "execution_count": 14,
     "metadata": {},
     "output_type": "execute_result"
    }
   ],
   "source": [
    "comments.describe(include='all').T"
   ]
  },
  {
   "cell_type": "markdown",
   "metadata": {},
   "source": [
    "## Результат предобработки исходных данных"
   ]
  },
  {
   "cell_type": "code",
   "execution_count": 15,
   "metadata": {},
   "outputs": [
    {
     "data": {
      "text/html": [
       "<div>\n",
       "<style scoped>\n",
       "    .dataframe tbody tr th:only-of-type {\n",
       "        vertical-align: middle;\n",
       "    }\n",
       "\n",
       "    .dataframe tbody tr th {\n",
       "        vertical-align: top;\n",
       "    }\n",
       "\n",
       "    .dataframe thead th {\n",
       "        text-align: right;\n",
       "    }\n",
       "</style>\n",
       "<table border=\"1\" class=\"dataframe\">\n",
       "  <thead>\n",
       "    <tr style=\"text-align: right;\">\n",
       "      <th></th>\n",
       "      <th>listing_id</th>\n",
       "      <th>comments</th>\n",
       "    </tr>\n",
       "    <tr>\n",
       "      <th>id</th>\n",
       "      <th></th>\n",
       "      <th></th>\n",
       "    </tr>\n",
       "  </thead>\n",
       "  <tbody>\n",
       "    <tr>\n",
       "      <th>1056790</th>\n",
       "      <td>23820750</td>\n",
       "      <td>#1 - the most comfortable bed #2 - 50-minute e...</td>\n",
       "    </tr>\n",
       "    <tr>\n",
       "      <th>1096433</th>\n",
       "      <td>25861190</td>\n",
       "      <td>#1 pick for staying in london amazing location...</td>\n",
       "    </tr>\n",
       "    <tr>\n",
       "      <th>652718</th>\n",
       "      <td>13903095</td>\n",
       "      <td>#10 osten mews is a wonderful and very central...</td>\n",
       "    </tr>\n",
       "    <tr>\n",
       "      <th>268896</th>\n",
       "      <td>3957718</td>\n",
       "      <td>#en# reinaldo is a very nice host we spent som...</td>\n",
       "    </tr>\n",
       "    <tr>\n",
       "      <th>1054528</th>\n",
       "      <td>23727374</td>\n",
       "      <td>#super cool location #clean #cool #design flat...</td>\n",
       "    </tr>\n",
       "    <tr>\n",
       "      <th>...</th>\n",
       "      <td>...</td>\n",
       "      <td>...</td>\n",
       "    </tr>\n",
       "    <tr>\n",
       "      <th>920886</th>\n",
       "      <td>19895633</td>\n",
       "      <td>zwei sch ne terrassen sehr angenehme kommunika...</td>\n",
       "    </tr>\n",
       "    <tr>\n",
       "      <th>133063</th>\n",
       "      <td>1131354</td>\n",
       "      <td>zwei sehr nette zimmer optimal f r eine famili...</td>\n",
       "    </tr>\n",
       "    <tr>\n",
       "      <th>335967</th>\n",
       "      <td>5293527</td>\n",
       "      <td>zwei super liebe und hilfsbereite menschen mei...</td>\n",
       "    </tr>\n",
       "    <tr>\n",
       "      <th>70649</th>\n",
       "      <td>539042</td>\n",
       "      <td>zwei wochen war ich in london und bin sehr dan...</td>\n",
       "    </tr>\n",
       "    <tr>\n",
       "      <th>848842</th>\n",
       "      <td>18227770</td>\n",
       "      <td>zweites mal dass ich bei ihm war zweites mal h...</td>\n",
       "    </tr>\n",
       "  </tbody>\n",
       "</table>\n",
       "<p>967567 rows × 2 columns</p>\n",
       "</div>"
      ],
      "text/plain": [
       "         listing_id                                           comments\n",
       "id                                                                    \n",
       "1056790    23820750  #1 - the most comfortable bed #2 - 50-minute e...\n",
       "1096433    25861190  #1 pick for staying in london amazing location...\n",
       "652718     13903095  #10 osten mews is a wonderful and very central...\n",
       "268896      3957718  #en# reinaldo is a very nice host we spent som...\n",
       "1054528    23727374  #super cool location #clean #cool #design flat...\n",
       "...             ...                                                ...\n",
       "920886     19895633  zwei sch ne terrassen sehr angenehme kommunika...\n",
       "133063      1131354  zwei sehr nette zimmer optimal f r eine famili...\n",
       "335967      5293527  zwei super liebe und hilfsbereite menschen mei...\n",
       "70649        539042  zwei wochen war ich in london und bin sehr dan...\n",
       "848842     18227770  zweites mal dass ich bei ihm war zweites mal h...\n",
       "\n",
       "[967567 rows x 2 columns]"
      ]
     },
     "execution_count": 15,
     "metadata": {},
     "output_type": "execute_result"
    }
   ],
   "source": [
    "comments.index.rename('id', inplace=True)\n",
    "comments.sort_values(by='comments')"
   ]
  },
  {
   "cell_type": "code",
   "execution_count": 16,
   "metadata": {},
   "outputs": [
    {
     "data": {
      "text/plain": [
       "(967567, 2)"
      ]
     },
     "execution_count": 16,
     "metadata": {},
     "output_type": "execute_result"
    }
   ],
   "source": [
    "comments.shape"
   ]
  },
  {
   "cell_type": "markdown",
   "metadata": {},
   "source": [
    "Получился достаточно большой датасет, возьмем часть"
   ]
  },
  {
   "cell_type": "code",
   "execution_count": 17,
   "metadata": {},
   "outputs": [
    {
     "data": {
      "text/plain": [
       "(387026, 2)"
      ]
     },
     "execution_count": 17,
     "metadata": {},
     "output_type": "execute_result"
    }
   ],
   "source": [
    "comments_train, _, _, _ = train_test_split(comments, comments.listing_id,\n",
    "                                     train_size=0.4,\n",
    "                                     random_state=RANDOM_STATE,\n",
    "                                     shuffle=True)\n",
    "comments_train.shape"
   ]
  },
  {
   "cell_type": "markdown",
   "metadata": {},
   "source": [
    "Сохраним полученные данные"
   ]
  },
  {
   "cell_type": "code",
   "execution_count": 18,
   "metadata": {},
   "outputs": [
    {
     "data": {
      "text/plain": [
       "'Done'"
      ]
     },
     "execution_count": 18,
     "metadata": {},
     "output_type": "execute_result"
    }
   ],
   "source": [
    "comments_train.to_csv('comments.csv')\n",
    "'Done'"
   ]
  },
  {
   "cell_type": "code",
   "execution_count": null,
   "metadata": {},
   "outputs": [],
   "source": []
  }
 ],
 "metadata": {
  "kernelspec": {
   "display_name": "Python 3",
   "language": "python",
   "name": "python3"
  },
  "language_info": {
   "codemirror_mode": {
    "name": "ipython",
    "version": 3
   },
   "file_extension": ".py",
   "mimetype": "text/x-python",
   "name": "python",
   "nbconvert_exporter": "python",
   "pygments_lexer": "ipython3",
   "version": "3.8.3"
  }
 },
 "nbformat": 4,
 "nbformat_minor": 4
}
